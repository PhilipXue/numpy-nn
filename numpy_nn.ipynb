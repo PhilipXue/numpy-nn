{
 "cells": [
  {
   "cell_type": "code",
   "execution_count": 1,
   "metadata": {},
   "outputs": [],
   "source": [
    "import numpy as np\n",
    "import tqdm\n",
    "import matplotlib.pyplot as plt\n",
    "%matplotlib inline"
   ]
  },
  {
   "cell_type": "markdown",
   "metadata": {},
   "source": [
    "The following sector is for necessary computation compenent needed"
   ]
  },
  {
   "cell_type": "code",
   "execution_count": 2,
   "metadata": {},
   "outputs": [],
   "source": [
    "def sigmoid(x):\n",
    "    if x >= 0:\n",
    "        z = np.exp(-x)\n",
    "        return 1 / (1 + z)\n",
    "    else:\n",
    "        z = np.exp(x)\n",
    "        return z / (1 + z)\n",
    "    return 1.0 / (1.0 + np.exp(-x))\n",
    "def sigmoid_gradient(y):\n",
    "    return y*(1.0-y)\n",
    "\n",
    "sigmoid = np.vectorize(sigmoid)\n",
    "sigmoid_gradient = np.vectorize(sigmoid_gradient)\n",
    "\n",
    "def binary_entropy(y_true,y_pred):\n",
    "    return -1*(y_true*np.log(y_pred)+(1-y_true)*np.log(1-y_pred))\n"
   ]
  },
  {
   "cell_type": "code",
   "execution_count": 3,
   "metadata": {},
   "outputs": [],
   "source": [
    "def accurcy(y_true,y_pred):\n",
    "    \"\"\"\n",
    "    Mesures the accurcy of predictions with one-hot repretation\n",
    "    \"\"\"\n",
    "    return np.array(np.argmax(y_pred,axis=1) == np.argmax(y_true,axis=1),dtype=np.float).mean()"
   ]
  },
  {
   "cell_type": "markdown",
   "metadata": {},
   "source": [
    "Implementation with of MLP layer"
   ]
  },
  {
   "cell_type": "code",
   "execution_count": 4,
   "metadata": {},
   "outputs": [],
   "source": [
    "class NN_layer(object):\n",
    "    def __init__(self,input_size,hidden_size,reg=1e-4):\n",
    "        self.reg = reg\n",
    "        self.weights = np.random.randn(input_size,hidden_size).astype(np.float32)# * np.sqrt(2.0/input_size)\n",
    "        self.bias = np.zeros(hidden_size).astype(np.float32)\n",
    "    def forward(self,input_array):\n",
    "        self.input = input_array\n",
    "        self.ih = np.dot(input_array,self.weights)\n",
    "        self.o = sigmoid(self.bias+self.ih)\n",
    "        return self.o\n",
    "    def backward(self,error_array,learning_rate):\n",
    "        self.delta = sigmoid_gradient(self.o)*error_array\n",
    "        self.delta = error_array\n",
    "        self.g_bias = self.delta * self.bias / (self.ih+self.bias)\n",
    "        self.g_ih = self.delta * self.ih / (self.ih+self.bias)\n",
    "        self.g_input = np.dot(self.g_ih, self.weights.T)\n",
    "        self.weights -= learning_rate * np.dot(self.input.T,self.g_ih)\n",
    "        self.bias -= learning_rate * np.sum(self.g_bias,axis=0)\n",
    "        return self.g_input"
   ]
  },
  {
   "cell_type": "markdown",
   "metadata": {},
   "source": [
    "Implemenatation for MLP model\n",
    "\n",
    "- implemenat forward and backward propagation using nn laery\n",
    "- training and fitting function"
   ]
  },
  {
   "cell_type": "code",
   "execution_count": 5,
   "metadata": {},
   "outputs": [],
   "source": [
    "class MLP():\n",
    "    def __init__(self,input_size,hidden_unit, output_size,reg=1e-4):\n",
    "        self.num_of_layer = len(hidden_unit)\n",
    "        self.size = [input_size] + hidden_unit + [output_size]\n",
    "        self.layers = [NN_layer(self.size[i],self.size[i+1],reg) for i in range(self.num_of_layer+1)]\n",
    "        self.losses = []\n",
    "        self.valid_acc = []\n",
    "        self.reg = reg\n",
    "    @property\n",
    "    def parameters(self):\n",
    "        return [layer.weights for layer in self.layers]\n",
    "    @property\n",
    "    def L2_reg(self):\n",
    "        return sum([np.sum(np.power(parameter,2)) for parameter in self.parameters])\n",
    "    def forward(self, X):\n",
    "        feed = X\n",
    "        for layer in self.layers:\n",
    "            out = layer.forward(feed)\n",
    "            feed = out\n",
    "        return out\n",
    "    def backward(self, error,learning_rate):\n",
    "        error_bp = error\n",
    "        for i in range(self.num_of_layer,-1,-1):\n",
    "            error_bp = self.layers[i].backward(error_bp,learning_rate)\n",
    "    def train(self, X, y,learning_rate):\n",
    "        output = self.forward(X)\n",
    "        loss = binary_entropy(y, output) # + self.reg*self.L2_reg\n",
    "        self.backward(loss,learning_rate)\n",
    "        return loss.mean()\n",
    "    def fit(self, X, y, epoch, batch_size=1, learning_rate=0.1,shuffle=True,validation=False, valid_iter=None,valid_X=None,valid_y=None):\n",
    "        data = list(zip(X,y))\n",
    "        if shuffle:\n",
    "            np.random.shuffle(data)\n",
    "        batch_num = len(X)*epoch//batch_size+int((len(X)*epoch)%batch_size>0)\n",
    "        data_gen = batch_gen(data,batch_size)\n",
    "        for iteration in tqdm.tqdm(range(batch_num)):\n",
    "            batch_X,batch_y = zip(*next(data_gen))\n",
    "            loss = self.train(np.array(batch_X),np.array(batch_y),learning_rate)\n",
    "            self.losses.append(loss)\n",
    "            if validation and ((iteration+1)%valid_iter==0):\n",
    "                valid_pred = self.forward(valid_X)\n",
    "                acc = accurcy(valid_y, valid_pred)\n",
    "                self.valid_acc.append(acc)"
   ]
  },
  {
   "cell_type": "code",
   "execution_count": 6,
   "metadata": {},
   "outputs": [],
   "source": [
    "def to_categorical(y, num_classes=None):\n",
    "    y = np.array(y, dtype=np.int)\n",
    "    input_shape = y.shape\n",
    "    if input_shape and input_shape[-1] == 1 and len(input_shape) > 1:\n",
    "        input_shape = tuple(input_shape[:-1])\n",
    "    y = y.ravel()\n",
    "    if not num_classes:\n",
    "        num_classes = np.max(y) + 1\n",
    "    n = y.shape[0]\n",
    "    categorical = np.zeros((n, num_classes), dtype=np.float32)\n",
    "    categorical[np.arange(n), y] = 1\n",
    "    output_shape = input_shape + (num_classes,)\n",
    "    categorical = np.reshape(categorical, output_shape)\n",
    "    return categorical"
   ]
  },
  {
   "cell_type": "code",
   "execution_count": 7,
   "metadata": {},
   "outputs": [],
   "source": [
    "import sklearn\n",
    "from sklearn import datasets\n",
    "from sklearn.model_selection import train_test_split"
   ]
  },
  {
   "cell_type": "code",
   "execution_count": 8,
   "metadata": {},
   "outputs": [],
   "source": [
    "# Generator for giver batch size\n",
    "def batch_gen(data,batch_size):\n",
    "    full_len = len(data)\n",
    "    start = 0\n",
    "    while True:\n",
    "        if start+batch_size<full_len:\n",
    "            start+=batch_size\n",
    "            yield data[start-batch_size:start]\n",
    "        else:\n",
    "            temp_start = start\n",
    "            start = start+batch_size-full_len\n",
    "            yield data[temp_start:]+data[:start]"
   ]
  },
  {
   "cell_type": "code",
   "execution_count": 9,
   "metadata": {},
   "outputs": [
    {
     "name": "stdout",
     "output_type": "stream",
     "text": [
      "4 3\n"
     ]
    }
   ],
   "source": [
    "iris = datasets.load_iris()\n",
    "X = iris.data\n",
    "y = to_categorical(iris.target)\n",
    "\n",
    "print(X.shape[-1], y.shape[-1])"
   ]
  },
  {
   "cell_type": "code",
   "execution_count": 10,
   "metadata": {},
   "outputs": [],
   "source": [
    "# devide the dataset into train valid and test\n",
    "train_val_X,test_X,train_val_y, test_y = train_test_split(X,y,test_size=0.2)\n",
    "train_X,val_X,train_y,val_y = train_test_split(train_val_X,train_val_y,test_size=0.2)"
   ]
  },
  {
   "cell_type": "code",
   "execution_count": 11,
   "metadata": {},
   "outputs": [],
   "source": [
    "model = MLP(4,[8,8],3)"
   ]
  },
  {
   "cell_type": "code",
   "execution_count": 12,
   "metadata": {},
   "outputs": [
    {
     "name": "stderr",
     "output_type": "stream",
     "text": [
      "  0%|                                                                                           | 0/60 [00:00<?, ?it/s]c:\\users\\phili\\miniconda3\\envs\\py3\\lib\\site-packages\\ipykernel_launcher.py:16: RuntimeWarning: divide by zero encountered in log\n",
      "  app.launch_new_instance()\n",
      "c:\\users\\phili\\miniconda3\\envs\\py3\\lib\\site-packages\\ipykernel_launcher.py:16: RuntimeWarning: invalid value encountered in multiply\n",
      "  app.launch_new_instance()\n",
      "c:\\users\\phili\\miniconda3\\envs\\py3\\lib\\site-packages\\ipykernel_launcher.py:12: RuntimeWarning: invalid value encountered in multiply\n",
      "  if sys.path[0] == '':\n",
      "c:\\users\\phili\\miniconda3\\envs\\py3\\lib\\site-packages\\ipykernel_launcher.py:14: RuntimeWarning: invalid value encountered in multiply\n",
      "  \n",
      "100%|█████████████████████████████████████████████████████████████████████████████████| 60/60 [00:00<00:00, 599.98it/s]\n"
     ]
    }
   ],
   "source": [
    "model.fit(train_X,train_y,epoch=10,batch_size=16,learning_rate=0.01,validation=True, valid_iter=10,valid_X=val_X,valid_y=val_y)"
   ]
  },
  {
   "cell_type": "code",
   "execution_count": 13,
   "metadata": {},
   "outputs": [
    {
     "data": {
      "text/plain": [
       "[<matplotlib.lines.Line2D at 0x24a2c4cab70>]"
      ]
     },
     "execution_count": 13,
     "metadata": {},
     "output_type": "execute_result"
    },
    {
     "data": {
      "image/png": "[encoded data removed]",
      "text/plain": [
       "<Figure size 432x288 with 1 Axes>"
      ]
     },
     "metadata": {},
     "output_type": "display_data"
    }
   ],
   "source": [
    "plt.plot(model.losses)"
   ]
  },
  {
   "cell_type": "code",
   "execution_count": 14,
   "metadata": {},
   "outputs": [
    {
     "data": {
      "text/plain": [
       "[<matplotlib.lines.Line2D at 0x24a2c55ca58>]"
      ]
     },
     "execution_count": 14,
     "metadata": {},
     "output_type": "execute_result"
    },
    {
     "data": {
      "image/png": "[encoded data removed]",
      "text/plain": [
       "<Figure size 432x288 with 1 Axes>"
      ]
     },
     "metadata": {},
     "output_type": "display_data"
    }
   ],
   "source": [
    "plt.plot(model.valid_acc)"
   ]
  },
  {
   "cell_type": "markdown",
   "metadata": {},
   "source": [
    "## Review and explainatino\n",
    "I didn't actually finish the assignment. Thought the main functional are completed. Instead of going down, the loss explode after several epoch and overflowed.\n",
    "This may be caused by\n",
    "\n",
    "1. Bad initalization: But after using xavier initialization it still performs the same.\n",
    "2. Lack of regulation: L2 regulation doesn't imporve\n",
    "3. Activation function I used sigmoid for activation and binary entropy for loss function. should try relu for activation and softmax (cross entropy) for loss"
   ]
  },
  {
   "cell_type": "code",
   "execution_count": null,
   "metadata": {},
   "outputs": [],
   "source": []
  }
 ],
 "metadata": {
  "kernelspec": {
   "display_name": "Python 3",
   "language": "python",
   "name": "python3"
  },
  "language_info": {
   "codemirror_mode": {
    "name": "ipython",
    "version": 3
   },
   "file_extension": ".py",
   "mimetype": "text/x-python",
   "name": "python",
   "nbconvert_exporter": "python",
   "pygments_lexer": "ipython3",
   "version": "3.6.5"
  }
 },
 "nbformat": 4,
 "nbformat_minor": 2
}
